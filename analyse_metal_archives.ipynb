{
 "cells": [
  {
   "cell_type": "markdown",
   "id": "c12941cf",
   "metadata": {},
   "source": []
  },
  {
   "cell_type": "markdown",
   "id": "9d8e4fa0",
   "metadata": {},
   "source": []
  },
  {
   "cell_type": "code",
   "execution_count": 13,
   "id": "433bcee1",
   "metadata": {},
   "outputs": [
    {
     "name": "stdout",
     "output_type": "stream",
     "text": [
      "<class 'pandas.core.frame.DataFrame'>\n",
      "RangeIndex: 163965 entries, 0 to 163964\n",
      "Data columns (total 12 columns):\n",
      " #   Column             Non-Null Count   Dtype \n",
      "---  ------             --------------   ----- \n",
      " 0   band_id            163965 non-null  int64 \n",
      " 1   band_name          163965 non-null  object\n",
      " 2   url                163965 non-null  object\n",
      " 3   country_of_origin  163965 non-null  object\n",
      " 4   location           163965 non-null  object\n",
      " 5   status             163965 non-null  object\n",
      " 6   formed_in          163965 non-null  object\n",
      " 7   genre              163965 non-null  object\n",
      " 8   lyrical_themes     163965 non-null  object\n",
      " 9   current_label      163965 non-null  object\n",
      " 10  years_active       163965 non-null  object\n",
      " 11  data_retrieved     163965 non-null  object\n",
      "dtypes: int64(1), object(11)\n",
      "memory usage: 15.0+ MB\n"
     ]
    }
   ],
   "source": [
    "import sqlite3\n",
    "import pandas as pd\n",
    "\n",
    "conn = sqlite3.connect('metal-archives.db') \n",
    "          \n",
    "sql_query = pd.read_sql_query ('''\n",
    "                               SELECT * FROM band_info\n",
    "                               ''', conn)\n",
    "\n",
    "band_info = pd.DataFrame(sql_query)\n",
    "band_info.info()"
   ]
  },
  {
   "cell_type": "code",
   "execution_count": 11,
   "id": "d9ab8c08",
   "metadata": {},
   "outputs": [
    {
     "data": {
      "text/plain": [
       "False    163196\n",
       "True        769\n",
       "Name: url, dtype: int64"
      ]
     },
     "execution_count": 11,
     "metadata": {},
     "output_type": "execute_result"
    }
   ],
   "source": [
    "band_info[\"url\"].duplicated().value_counts()"
   ]
  },
  {
   "cell_type": "code",
   "execution_count": 12,
   "id": "be671af3",
   "metadata": {},
   "outputs": [
    {
     "data": {
      "text/plain": [
       "False    163196\n",
       "Name: url, dtype: int64"
      ]
     },
     "execution_count": 12,
     "metadata": {},
     "output_type": "execute_result"
    }
   ],
   "source": [
    "band_info.drop_duplicates(subset=['url'], keep='first', inplace=True)\n",
    "band_info[\"url\"].duplicated().value_counts()"
   ]
  },
  {
   "cell_type": "code",
   "execution_count": 14,
   "id": "c4acbb41",
   "metadata": {},
   "outputs": [
    {
     "data": {
      "text/plain": [
       "Nemesis              48\n",
       "Legion               41\n",
       "Requiem              37\n",
       "Abaddon              37\n",
       "Oblivion             36\n",
       "                     ..\n",
       "Fragile Nova          1\n",
       "Fragile Existence     1\n",
       "Fragile Edge          1\n",
       "Fragile Art           1\n",
       "해독                    1\n",
       "Name: band_name, Length: 135496, dtype: int64"
      ]
     },
     "execution_count": 14,
     "metadata": {},
     "output_type": "execute_result"
    }
   ],
   "source": [
    "band_info[\"band_name\"].value_counts()"
   ]
  },
  {
   "cell_type": "code",
   "execution_count": 23,
   "id": "d17210d0",
   "metadata": {},
   "outputs": [
    {
     "data": {
      "text/plain": [
       "United States                36227\n",
       "Germany                      12801\n",
       "Italy                         7608\n",
       "Brazil                        7593\n",
       "United Kingdom                6722\n",
       "                             ...  \n",
       "Saint Pierre and Miquelon        1\n",
       "East Timor                       1\n",
       "Falkland Islands                 1\n",
       "Ethiopia                         1\n",
       "Palestine                        1\n",
       "Name: country_of_origin, Length: 155, dtype: int64"
      ]
     },
     "execution_count": 23,
     "metadata": {},
     "output_type": "execute_result"
    }
   ],
   "source": [
    "band_info[\"country_of_origin\"].value_counts()"
   ]
  },
  {
   "cell_type": "code",
   "execution_count": 25,
   "id": "65fbcf9b",
   "metadata": {},
   "outputs": [
    {
     "data": {
      "text/plain": [
       "Active          90572\n",
       "Split-up        50196\n",
       "Unknown         12836\n",
       "Changed name     6709\n",
       "On hold          3626\n",
       "Disputed           26\n",
       "Name: status, dtype: int64"
      ]
     },
     "execution_count": 25,
     "metadata": {},
     "output_type": "execute_result"
    }
   ],
   "source": [
    "band_info[\"status\"].value_counts()"
   ]
  },
  {
   "cell_type": "code",
   "execution_count": 31,
   "id": "20206a15",
   "metadata": {},
   "outputs": [
    {
     "data": {
      "text/plain": [
       "Black Metal              10439\n",
       "Death Metal               8912\n",
       "Thrash Metal              7545\n",
       "Heavy Metal               7185\n",
       "Melodic Death Metal       3146\n",
       "Death/Thrash Metal        2657\n",
       "Black/Death Metal         1931\n",
       "Progressive Metal         1874\n",
       "Thrash/Death Metal        1530\n",
       "Death Metal/Grindcore     1486\n",
       "Name: genre, dtype: int64"
      ]
     },
     "execution_count": 31,
     "metadata": {},
     "output_type": "execute_result"
    }
   ],
   "source": [
    "band_info.loc[band_info[\"current_label\"] == \"Unsigned/independent\", \"genre\"].value_counts()[:10]"
   ]
  },
  {
   "cell_type": "code",
   "execution_count": 32,
   "id": "0a8d6cf5",
   "metadata": {},
   "outputs": [
    {
     "data": {
      "text/plain": [
       "Black Metal              9759\n",
       "Death Metal              4238\n",
       "Heavy Metal              3086\n",
       "Thrash Metal             2362\n",
       "Brutal Death Metal       1553\n",
       "Black/Death Metal        1342\n",
       "Raw Black Metal           932\n",
       "Melodic Death Metal       895\n",
       "Death Metal/Grindcore     879\n",
       "Death/Thrash Metal        844\n",
       "Name: genre, dtype: int64"
      ]
     },
     "execution_count": 32,
     "metadata": {},
     "output_type": "execute_result"
    }
   ],
   "source": [
    "band_info.loc[band_info[\"current_label\"] != \"Unsigned/independent\", \"genre\"].value_counts()[:10]"
   ]
  },
  {
   "cell_type": "code",
   "execution_count": 28,
   "id": "8319106d",
   "metadata": {},
   "outputs": [
    {
     "data": {
      "text/plain": [
       "Unsigned/independent            105002\n",
       "Depressive Illusions Records       405\n",
       "Massacre Records                   282\n",
       "Nuclear Blast                      197\n",
       "Metal Blade Records                193\n",
       "                                 ...  \n",
       "Prime Wave                           1\n",
       "Rolling Tray                         1\n",
       "Mumbo Jumbo Music                    1\n",
       "Reese Records                        1\n",
       "Ye-Seong Records                     1\n",
       "Name: current_label, Length: 18456, dtype: int64"
      ]
     },
     "execution_count": 28,
     "metadata": {},
     "output_type": "execute_result"
    }
   ],
   "source": [
    "band_info[\"current_label\"].value_counts()"
   ]
  },
  {
   "cell_type": "code",
   "execution_count": null,
   "id": "67cb5541",
   "metadata": {},
   "outputs": [],
   "source": []
  }
 ],
 "metadata": {
  "kernelspec": {
   "display_name": "Python 3 (ipykernel)",
   "language": "python",
   "name": "python3"
  },
  "language_info": {
   "codemirror_mode": {
    "name": "ipython",
    "version": 3
   },
   "file_extension": ".py",
   "mimetype": "text/x-python",
   "name": "python",
   "nbconvert_exporter": "python",
   "pygments_lexer": "ipython3",
   "version": "3.9.12"
  }
 },
 "nbformat": 4,
 "nbformat_minor": 5
}
